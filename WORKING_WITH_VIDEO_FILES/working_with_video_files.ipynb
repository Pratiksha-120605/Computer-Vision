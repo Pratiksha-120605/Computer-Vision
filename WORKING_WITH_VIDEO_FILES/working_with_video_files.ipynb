{
 "cells": [
  {
   "cell_type": "code",
   "execution_count": 1,
   "id": "2471e715",
   "metadata": {},
   "outputs": [],
   "source": [
    "import cv2"
   ]
  },
  {
   "cell_type": "code",
   "execution_count": 2,
   "id": "af2bb89c",
   "metadata": {},
   "outputs": [],
   "source": [
    "# load the video\n",
    "video = cv2.VideoCapture(\"me.mp4\")"
   ]
  },
  {
   "cell_type": "code",
   "execution_count": 3,
   "id": "a30355af",
   "metadata": {},
   "outputs": [],
   "source": [
    "# display the video\n",
    "while True:\n",
    "    ret , frame = video.read()\n",
    "    if not ret:\n",
    "        break\n",
    "    cv2.imshow(\"Video window\",frame)\n",
    "    if cv2.waitKey(1) & 0xFF == ord('q'):\n",
    "       break\n",
    "   # T0 ----> F1\n",
    "   # wait 1 ms \n",
    "   # T1 ---> F2\n",
    "video.release()  \n",
    "cv2.destroyAllWindows() "
   ]
  },
  {
   "cell_type": "code",
   "execution_count": 7,
   "id": "bb267523",
   "metadata": {},
   "outputs": [],
   "source": [
    "# write a video\n",
    "fourcc = cv2.VideoWriter_fourcc(*\"mp4v\")\n",
    "\n",
    "width = int(video.get(cv2.CAP_PROP_FRAME_WIDTH))\n",
    "height = int(video.get(cv2.CAP_PROP_FRAME_HEIGHT))\n",
    "\n",
    "out = cv2.VideoWriter(\"./output_new.mp4\",fourcc, 30 , (width , height))\n",
    "\n",
    "while True:\n",
    "    ret , frame = video.read()\n",
    "    if not ret:\n",
    "        break\n",
    "    frame = frame + 30\n",
    "    out.write(frame)\n",
    "    \n",
    "out.release()\n",
    "video.release()\n",
    "cv2.destroyAllWindows()    "
   ]
  },
  {
   "cell_type": "code",
   "execution_count": null,
   "id": "764040c8",
   "metadata": {},
   "outputs": [],
   "source": [
    "# write a video\n",
    "fourcc = cv2.VideoWriter_fourcc(*\"mp4v\")\n",
    "\n",
    "width = int(video.get(cv2.CAP_PROP_FRAME_WIDTH))\n",
    "height = int(video.get(cv2.CAP_PROP_FRAME_HEIGHT))\n",
    "\n",
    "out = cv2.VideoWriter(\"./output.mp4\",fourcc, 30 , (width , height))\n",
    "\n",
    "while True:\n",
    "    ret , frame = video.read()\n",
    "    if not ret:\n",
    "        break\n",
    "    out.write(frame)\n",
    "    \n",
    "out.release()\n",
    "video.release()\n",
    "cv2.destroyAllWindows()    "
   ]
  }
 ],
 "metadata": {
  "kernelspec": {
   "display_name": "KNCVU",
   "language": "python",
   "name": "python3"
  },
  "language_info": {
   "codemirror_mode": {
    "name": "ipython",
    "version": 3
   },
   "file_extension": ".py",
   "mimetype": "text/x-python",
   "name": "python",
   "nbconvert_exporter": "python",
   "pygments_lexer": "ipython3",
   "version": "3.11.13"
  }
 },
 "nbformat": 4,
 "nbformat_minor": 5
}
